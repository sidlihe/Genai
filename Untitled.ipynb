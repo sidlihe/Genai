{
 "cells": [
  {
   "cell_type": "code",
   "execution_count": 1,
   "id": "f4408b79",
   "metadata": {},
   "outputs": [],
   "source": [
    "my_key=\"sk-proj-HAJg2iDp8Tlk6XkkiO1RT3BlbkFJeyAkYh46OnNIaAg7igfC\""
   ]
  },
  {
   "cell_type": "code",
   "execution_count": 2,
   "id": "1430ebff",
   "metadata": {},
   "outputs": [],
   "source": [
    "import openai\n",
    "openai.api_key=my_key"
   ]
  },
  {
   "cell_type": "code",
   "execution_count": 3,
   "id": "37416b5d",
   "metadata": {},
   "outputs": [],
   "source": [
    "all_models=openai.models.list()"
   ]
  },
  {
   "cell_type": "code",
   "execution_count": 4,
   "id": "3b39fe6e",
   "metadata": {},
   "outputs": [
    {
     "data": {
      "text/plain": [
       "[Model(id='whisper-1', created=1677532384, object='model', owned_by='openai-internal'),\n",
       " Model(id='babbage-002', created=1692634615, object='model', owned_by='system'),\n",
       " Model(id='dall-e-2', created=1698798177, object='model', owned_by='system'),\n",
       " Model(id='gpt-3.5-turbo-16k', created=1683758102, object='model', owned_by='openai-internal'),\n",
       " Model(id='tts-1-hd-1106', created=1699053533, object='model', owned_by='system'),\n",
       " Model(id='tts-1-hd', created=1699046015, object='model', owned_by='system'),\n",
       " Model(id='gpt-4-turbo-2024-04-09', created=1712601677, object='model', owned_by='system'),\n",
       " Model(id='gpt-4-0125-preview', created=1706037612, object='model', owned_by='system'),\n",
       " Model(id='gpt-3.5-turbo', created=1677610602, object='model', owned_by='openai'),\n",
       " Model(id='gpt-4-turbo-preview', created=1706037777, object='model', owned_by='system'),\n",
       " Model(id='gpt-4-turbo', created=1712361441, object='model', owned_by='system'),\n",
       " Model(id='gpt-3.5-turbo-instruct-0914', created=1694122472, object='model', owned_by='system'),\n",
       " Model(id='gpt-4o', created=1715367049, object='model', owned_by='system'),\n",
       " Model(id='gpt-3.5-turbo-instruct', created=1692901427, object='model', owned_by='system'),\n",
       " Model(id='text-embedding-3-small', created=1705948997, object='model', owned_by='system'),\n",
       " Model(id='tts-1', created=1681940951, object='model', owned_by='openai-internal'),\n",
       " Model(id='gpt-4', created=1687882411, object='model', owned_by='openai'),\n",
       " Model(id='text-embedding-3-large', created=1705953180, object='model', owned_by='system'),\n",
       " Model(id='gpt-4-1106-preview', created=1698957206, object='model', owned_by='system'),\n",
       " Model(id='gpt-4-0613', created=1686588896, object='model', owned_by='openai'),\n",
       " Model(id='gpt-3.5-turbo-0125', created=1706048358, object='model', owned_by='system'),\n",
       " Model(id='tts-1-1106', created=1699053241, object='model', owned_by='system'),\n",
       " Model(id='dall-e-3', created=1698785189, object='model', owned_by='system'),\n",
       " Model(id='text-embedding-ada-002', created=1671217299, object='model', owned_by='openai-internal'),\n",
       " Model(id='davinci-002', created=1692634301, object='model', owned_by='system'),\n",
       " Model(id='gpt-3.5-turbo-1106', created=1698959748, object='model', owned_by='system'),\n",
       " Model(id='gpt-4o-2024-05-13', created=1715368132, object='model', owned_by='system')]"
      ]
     },
     "execution_count": 4,
     "metadata": {},
     "output_type": "execute_result"
    }
   ],
   "source": [
    "list(all_models)"
   ]
  },
  {
   "cell_type": "code",
   "execution_count": 5,
   "id": "6bdd5b03",
   "metadata": {},
   "outputs": [],
   "source": [
    "import pandas as pd\n",
    "df=pd.DataFrame(list(all_models),columns=[\"id\",\"created\",\"object\",\"owned_by\"])"
   ]
  },
  {
   "cell_type": "code",
   "execution_count": 6,
   "id": "f72472d3",
   "metadata": {},
   "outputs": [
    {
     "data": {
      "text/html": [
       "<div>\n",
       "<style scoped>\n",
       "    .dataframe tbody tr th:only-of-type {\n",
       "        vertical-align: middle;\n",
       "    }\n",
       "\n",
       "    .dataframe tbody tr th {\n",
       "        vertical-align: top;\n",
       "    }\n",
       "\n",
       "    .dataframe thead th {\n",
       "        text-align: right;\n",
       "    }\n",
       "</style>\n",
       "<table border=\"1\" class=\"dataframe\">\n",
       "  <thead>\n",
       "    <tr style=\"text-align: right;\">\n",
       "      <th></th>\n",
       "      <th>id</th>\n",
       "      <th>created</th>\n",
       "      <th>object</th>\n",
       "      <th>owned_by</th>\n",
       "    </tr>\n",
       "  </thead>\n",
       "  <tbody>\n",
       "    <tr>\n",
       "      <th>0</th>\n",
       "      <td>(id, whisper-1)</td>\n",
       "      <td>(created, 1677532384)</td>\n",
       "      <td>(object, model)</td>\n",
       "      <td>(owned_by, openai-internal)</td>\n",
       "    </tr>\n",
       "    <tr>\n",
       "      <th>1</th>\n",
       "      <td>(id, babbage-002)</td>\n",
       "      <td>(created, 1692634615)</td>\n",
       "      <td>(object, model)</td>\n",
       "      <td>(owned_by, system)</td>\n",
       "    </tr>\n",
       "    <tr>\n",
       "      <th>2</th>\n",
       "      <td>(id, dall-e-2)</td>\n",
       "      <td>(created, 1698798177)</td>\n",
       "      <td>(object, model)</td>\n",
       "      <td>(owned_by, system)</td>\n",
       "    </tr>\n",
       "    <tr>\n",
       "      <th>3</th>\n",
       "      <td>(id, gpt-3.5-turbo-16k)</td>\n",
       "      <td>(created, 1683758102)</td>\n",
       "      <td>(object, model)</td>\n",
       "      <td>(owned_by, openai-internal)</td>\n",
       "    </tr>\n",
       "    <tr>\n",
       "      <th>4</th>\n",
       "      <td>(id, tts-1-hd-1106)</td>\n",
       "      <td>(created, 1699053533)</td>\n",
       "      <td>(object, model)</td>\n",
       "      <td>(owned_by, system)</td>\n",
       "    </tr>\n",
       "    <tr>\n",
       "      <th>5</th>\n",
       "      <td>(id, tts-1-hd)</td>\n",
       "      <td>(created, 1699046015)</td>\n",
       "      <td>(object, model)</td>\n",
       "      <td>(owned_by, system)</td>\n",
       "    </tr>\n",
       "    <tr>\n",
       "      <th>6</th>\n",
       "      <td>(id, gpt-4-turbo-2024-04-09)</td>\n",
       "      <td>(created, 1712601677)</td>\n",
       "      <td>(object, model)</td>\n",
       "      <td>(owned_by, system)</td>\n",
       "    </tr>\n",
       "    <tr>\n",
       "      <th>7</th>\n",
       "      <td>(id, gpt-4-0125-preview)</td>\n",
       "      <td>(created, 1706037612)</td>\n",
       "      <td>(object, model)</td>\n",
       "      <td>(owned_by, system)</td>\n",
       "    </tr>\n",
       "    <tr>\n",
       "      <th>8</th>\n",
       "      <td>(id, gpt-3.5-turbo)</td>\n",
       "      <td>(created, 1677610602)</td>\n",
       "      <td>(object, model)</td>\n",
       "      <td>(owned_by, openai)</td>\n",
       "    </tr>\n",
       "    <tr>\n",
       "      <th>9</th>\n",
       "      <td>(id, gpt-4-turbo-preview)</td>\n",
       "      <td>(created, 1706037777)</td>\n",
       "      <td>(object, model)</td>\n",
       "      <td>(owned_by, system)</td>\n",
       "    </tr>\n",
       "    <tr>\n",
       "      <th>10</th>\n",
       "      <td>(id, gpt-4-turbo)</td>\n",
       "      <td>(created, 1712361441)</td>\n",
       "      <td>(object, model)</td>\n",
       "      <td>(owned_by, system)</td>\n",
       "    </tr>\n",
       "    <tr>\n",
       "      <th>11</th>\n",
       "      <td>(id, gpt-3.5-turbo-instruct-0914)</td>\n",
       "      <td>(created, 1694122472)</td>\n",
       "      <td>(object, model)</td>\n",
       "      <td>(owned_by, system)</td>\n",
       "    </tr>\n",
       "    <tr>\n",
       "      <th>12</th>\n",
       "      <td>(id, gpt-4o)</td>\n",
       "      <td>(created, 1715367049)</td>\n",
       "      <td>(object, model)</td>\n",
       "      <td>(owned_by, system)</td>\n",
       "    </tr>\n",
       "    <tr>\n",
       "      <th>13</th>\n",
       "      <td>(id, gpt-3.5-turbo-instruct)</td>\n",
       "      <td>(created, 1692901427)</td>\n",
       "      <td>(object, model)</td>\n",
       "      <td>(owned_by, system)</td>\n",
       "    </tr>\n",
       "    <tr>\n",
       "      <th>14</th>\n",
       "      <td>(id, text-embedding-3-small)</td>\n",
       "      <td>(created, 1705948997)</td>\n",
       "      <td>(object, model)</td>\n",
       "      <td>(owned_by, system)</td>\n",
       "    </tr>\n",
       "    <tr>\n",
       "      <th>15</th>\n",
       "      <td>(id, tts-1)</td>\n",
       "      <td>(created, 1681940951)</td>\n",
       "      <td>(object, model)</td>\n",
       "      <td>(owned_by, openai-internal)</td>\n",
       "    </tr>\n",
       "    <tr>\n",
       "      <th>16</th>\n",
       "      <td>(id, gpt-4)</td>\n",
       "      <td>(created, 1687882411)</td>\n",
       "      <td>(object, model)</td>\n",
       "      <td>(owned_by, openai)</td>\n",
       "    </tr>\n",
       "    <tr>\n",
       "      <th>17</th>\n",
       "      <td>(id, text-embedding-3-large)</td>\n",
       "      <td>(created, 1705953180)</td>\n",
       "      <td>(object, model)</td>\n",
       "      <td>(owned_by, system)</td>\n",
       "    </tr>\n",
       "    <tr>\n",
       "      <th>18</th>\n",
       "      <td>(id, gpt-4-1106-preview)</td>\n",
       "      <td>(created, 1698957206)</td>\n",
       "      <td>(object, model)</td>\n",
       "      <td>(owned_by, system)</td>\n",
       "    </tr>\n",
       "    <tr>\n",
       "      <th>19</th>\n",
       "      <td>(id, gpt-4-0613)</td>\n",
       "      <td>(created, 1686588896)</td>\n",
       "      <td>(object, model)</td>\n",
       "      <td>(owned_by, openai)</td>\n",
       "    </tr>\n",
       "    <tr>\n",
       "      <th>20</th>\n",
       "      <td>(id, gpt-3.5-turbo-0125)</td>\n",
       "      <td>(created, 1706048358)</td>\n",
       "      <td>(object, model)</td>\n",
       "      <td>(owned_by, system)</td>\n",
       "    </tr>\n",
       "    <tr>\n",
       "      <th>21</th>\n",
       "      <td>(id, tts-1-1106)</td>\n",
       "      <td>(created, 1699053241)</td>\n",
       "      <td>(object, model)</td>\n",
       "      <td>(owned_by, system)</td>\n",
       "    </tr>\n",
       "    <tr>\n",
       "      <th>22</th>\n",
       "      <td>(id, dall-e-3)</td>\n",
       "      <td>(created, 1698785189)</td>\n",
       "      <td>(object, model)</td>\n",
       "      <td>(owned_by, system)</td>\n",
       "    </tr>\n",
       "    <tr>\n",
       "      <th>23</th>\n",
       "      <td>(id, text-embedding-ada-002)</td>\n",
       "      <td>(created, 1671217299)</td>\n",
       "      <td>(object, model)</td>\n",
       "      <td>(owned_by, openai-internal)</td>\n",
       "    </tr>\n",
       "    <tr>\n",
       "      <th>24</th>\n",
       "      <td>(id, davinci-002)</td>\n",
       "      <td>(created, 1692634301)</td>\n",
       "      <td>(object, model)</td>\n",
       "      <td>(owned_by, system)</td>\n",
       "    </tr>\n",
       "    <tr>\n",
       "      <th>25</th>\n",
       "      <td>(id, gpt-3.5-turbo-1106)</td>\n",
       "      <td>(created, 1698959748)</td>\n",
       "      <td>(object, model)</td>\n",
       "      <td>(owned_by, system)</td>\n",
       "    </tr>\n",
       "    <tr>\n",
       "      <th>26</th>\n",
       "      <td>(id, gpt-4o-2024-05-13)</td>\n",
       "      <td>(created, 1715368132)</td>\n",
       "      <td>(object, model)</td>\n",
       "      <td>(owned_by, system)</td>\n",
       "    </tr>\n",
       "  </tbody>\n",
       "</table>\n",
       "</div>"
      ],
      "text/plain": [
       "                                   id                created           object  \\\n",
       "0                     (id, whisper-1)  (created, 1677532384)  (object, model)   \n",
       "1                   (id, babbage-002)  (created, 1692634615)  (object, model)   \n",
       "2                      (id, dall-e-2)  (created, 1698798177)  (object, model)   \n",
       "3             (id, gpt-3.5-turbo-16k)  (created, 1683758102)  (object, model)   \n",
       "4                 (id, tts-1-hd-1106)  (created, 1699053533)  (object, model)   \n",
       "5                      (id, tts-1-hd)  (created, 1699046015)  (object, model)   \n",
       "6        (id, gpt-4-turbo-2024-04-09)  (created, 1712601677)  (object, model)   \n",
       "7            (id, gpt-4-0125-preview)  (created, 1706037612)  (object, model)   \n",
       "8                 (id, gpt-3.5-turbo)  (created, 1677610602)  (object, model)   \n",
       "9           (id, gpt-4-turbo-preview)  (created, 1706037777)  (object, model)   \n",
       "10                  (id, gpt-4-turbo)  (created, 1712361441)  (object, model)   \n",
       "11  (id, gpt-3.5-turbo-instruct-0914)  (created, 1694122472)  (object, model)   \n",
       "12                       (id, gpt-4o)  (created, 1715367049)  (object, model)   \n",
       "13       (id, gpt-3.5-turbo-instruct)  (created, 1692901427)  (object, model)   \n",
       "14       (id, text-embedding-3-small)  (created, 1705948997)  (object, model)   \n",
       "15                        (id, tts-1)  (created, 1681940951)  (object, model)   \n",
       "16                        (id, gpt-4)  (created, 1687882411)  (object, model)   \n",
       "17       (id, text-embedding-3-large)  (created, 1705953180)  (object, model)   \n",
       "18           (id, gpt-4-1106-preview)  (created, 1698957206)  (object, model)   \n",
       "19                   (id, gpt-4-0613)  (created, 1686588896)  (object, model)   \n",
       "20           (id, gpt-3.5-turbo-0125)  (created, 1706048358)  (object, model)   \n",
       "21                   (id, tts-1-1106)  (created, 1699053241)  (object, model)   \n",
       "22                     (id, dall-e-3)  (created, 1698785189)  (object, model)   \n",
       "23       (id, text-embedding-ada-002)  (created, 1671217299)  (object, model)   \n",
       "24                  (id, davinci-002)  (created, 1692634301)  (object, model)   \n",
       "25           (id, gpt-3.5-turbo-1106)  (created, 1698959748)  (object, model)   \n",
       "26            (id, gpt-4o-2024-05-13)  (created, 1715368132)  (object, model)   \n",
       "\n",
       "                       owned_by  \n",
       "0   (owned_by, openai-internal)  \n",
       "1            (owned_by, system)  \n",
       "2            (owned_by, system)  \n",
       "3   (owned_by, openai-internal)  \n",
       "4            (owned_by, system)  \n",
       "5            (owned_by, system)  \n",
       "6            (owned_by, system)  \n",
       "7            (owned_by, system)  \n",
       "8            (owned_by, openai)  \n",
       "9            (owned_by, system)  \n",
       "10           (owned_by, system)  \n",
       "11           (owned_by, system)  \n",
       "12           (owned_by, system)  \n",
       "13           (owned_by, system)  \n",
       "14           (owned_by, system)  \n",
       "15  (owned_by, openai-internal)  \n",
       "16           (owned_by, openai)  \n",
       "17           (owned_by, system)  \n",
       "18           (owned_by, system)  \n",
       "19           (owned_by, openai)  \n",
       "20           (owned_by, system)  \n",
       "21           (owned_by, system)  \n",
       "22           (owned_by, system)  \n",
       "23  (owned_by, openai-internal)  \n",
       "24           (owned_by, system)  \n",
       "25           (owned_by, system)  \n",
       "26           (owned_by, system)  "
      ]
     },
     "execution_count": 6,
     "metadata": {},
     "output_type": "execute_result"
    }
   ],
   "source": [
    "df"
   ]
  },
  {
   "cell_type": "code",
   "execution_count": 7,
   "id": "006b1d36",
   "metadata": {},
   "outputs": [
    {
     "name": "stdout",
     "output_type": "stream",
     "text": [
      "Name: openai\n",
      "Version: 1.34.0\n",
      "Summary: The official Python library for the openai API\n",
      "Home-page: \n",
      "Author: \n",
      "Author-email: OpenAI <support@openai.com>\n",
      "License: \n",
      "Location: C:\\Users\\Admin\\anaconda3\\Lib\\site-packages\n",
      "Requires: anyio, distro, httpx, pydantic, sniffio, tqdm, typing-extensions\n",
      "Required-by: langchain-openai\n"
     ]
    }
   ],
   "source": [
    "!pip show openai"
   ]
  },
  {
   "cell_type": "code",
   "execution_count": 4,
   "id": "f70e0382",
   "metadata": {},
   "outputs": [],
   "source": [
    "from openai import OpenAI\n",
    "client=OpenAI(api_key=\"sk-proj-HAJg2iDp8Tlk6XkkiO1RT3BlbkFJeyAkYh46OnNIaAg7igfC\")"
   ]
  },
  {
   "cell_type": "code",
   "execution_count": 9,
   "id": "257578fe",
   "metadata": {},
   "outputs": [],
   "source": [
    "chat_completion = client.chat.completions.create(\n",
    "    model=\"gpt-3.5-turbo\",\n",
    "    messages=[\n",
    "        {\n",
    "            \"role\": \"user\",\n",
    "            \"content\": \"captial of india is\",\n",
    "        }\n",
    "    ],\n",
    "    max_tokens=150,\n",
    "    n=3\n",
    ")"
   ]
  },
  {
   "cell_type": "code",
   "execution_count": 10,
   "id": "8a7522f5",
   "metadata": {},
   "outputs": [
    {
     "data": {
      "text/plain": [
       "'New Delhi'"
      ]
     },
     "execution_count": 10,
     "metadata": {},
     "output_type": "execute_result"
    }
   ],
   "source": [
    "chat_completion.choices[0].message.content"
   ]
  },
  {
   "cell_type": "code",
   "execution_count": 11,
   "id": "ce33d6d5",
   "metadata": {},
   "outputs": [
    {
     "data": {
      "text/plain": [
       "openai.types.chat.chat_completion.ChatCompletion"
      ]
     },
     "execution_count": 11,
     "metadata": {},
     "output_type": "execute_result"
    }
   ],
   "source": [
    "type(chat_completion)"
   ]
  },
  {
   "cell_type": "code",
   "execution_count": 12,
   "id": "5e85600d",
   "metadata": {},
   "outputs": [
    {
     "data": {
      "text/plain": [
       "ChatCompletion(id='chatcmpl-9bkIlkTNmtH4tsnAaCUr2fCgqYUbC', choices=[Choice(finish_reason='stop', index=0, logprobs=None, message=ChatCompletionMessage(content='New Delhi', role='assistant', function_call=None, tool_calls=None)), Choice(finish_reason='stop', index=1, logprobs=None, message=ChatCompletionMessage(content='New Delhi.', role='assistant', function_call=None, tool_calls=None)), Choice(finish_reason='stop', index=2, logprobs=None, message=ChatCompletionMessage(content='New Delhi', role='assistant', function_call=None, tool_calls=None))], created=1718783147, model='gpt-3.5-turbo-0125', object='chat.completion', system_fingerprint=None, usage=CompletionUsage(completion_tokens=7, prompt_tokens=12, total_tokens=19))"
      ]
     },
     "execution_count": 12,
     "metadata": {},
     "output_type": "execute_result"
    }
   ],
   "source": [
    "chat_completion"
   ]
  },
  {
   "cell_type": "code",
   "execution_count": 13,
   "id": "b7cb36fd",
   "metadata": {},
   "outputs": [],
   "source": [
    "#funtion calling"
   ]
  },
  {
   "cell_type": "code",
   "execution_count": 14,
   "id": "7d17bd6b",
   "metadata": {},
   "outputs": [],
   "source": [
    "student_description = \"sunny savita is a student of computer science at IIT delhi. He is an indian and has a 8.5 GPA. Sunny is known for his programming skills and is an active member of the college's AI Club. He hopes to pursue a career in artificial intelligence after graduating.\""
   ]
  },
  {
   "cell_type": "code",
   "execution_count": 15,
   "id": "a07d27d5",
   "metadata": {},
   "outputs": [],
   "source": [
    "prompt = f'''\n",
    "Please extract the following information from the given text and return it as a JSON object:\n",
    "\n",
    "name\n",
    "college\n",
    "grades\n",
    "club\n",
    "\n",
    "This is the body of text to extract the information from:\n",
    "{student_description}\n",
    "'''"
   ]
  },
  {
   "cell_type": "code",
   "execution_count": 16,
   "id": "b7b74d72",
   "metadata": {},
   "outputs": [
    {
     "data": {
      "text/plain": [
       "\"\\nPlease extract the following information from the given text and return it as a JSON object:\\n\\nname\\ncollege\\ngrades\\nclub\\n\\nThis is the body of text to extract the information from:\\nsunny savita is a student of computer science at IIT delhi. He is an indian and has a 8.5 GPA. Sunny is known for his programming skills and is an active member of the college's AI Club. He hopes to pursue a career in artificial intelligence after graduating.\\n\""
      ]
     },
     "execution_count": 16,
     "metadata": {},
     "output_type": "execute_result"
    }
   ],
   "source": [
    "prompt"
   ]
  },
  {
   "cell_type": "code",
   "execution_count": 17,
   "id": "59ec4afc",
   "metadata": {},
   "outputs": [],
   "source": [
    "response = client.chat.completions.create(\n",
    "    model=\"gpt-3.5-turbo\",\n",
    "    messages=[\n",
    "    {\n",
    "      \"role\": \"user\",\n",
    "      \"content\": prompt\n",
    "    }\n",
    "      ]\n",
    ")"
   ]
  },
  {
   "cell_type": "code",
   "execution_count": 18,
   "id": "e25cd46a",
   "metadata": {},
   "outputs": [],
   "source": [
    "output=response.choices[0].message.content"
   ]
  },
  {
   "cell_type": "code",
   "execution_count": 19,
   "id": "3248dbe7",
   "metadata": {},
   "outputs": [
    {
     "data": {
      "text/plain": [
       "{'name': 'sunny savita',\n",
       " 'college': 'IIT delhi',\n",
       " 'grades': 8.5,\n",
       " 'club': 'AI Club'}"
      ]
     },
     "execution_count": 19,
     "metadata": {},
     "output_type": "execute_result"
    }
   ],
   "source": [
    "import json\n",
    "json.loads(output)"
   ]
  },
  {
   "cell_type": "code",
   "execution_count": 20,
   "id": "87186315",
   "metadata": {},
   "outputs": [],
   "source": [
    "student_custom_function = [\n",
    "    {\n",
    "        'name': 'extract_student_info',\n",
    "        'description': 'Get the student information from the body of the input text',\n",
    "        'parameters': {\n",
    "            'type': 'object',\n",
    "            'properties': {\n",
    "                'name': {\n",
    "                    'type': 'string',\n",
    "                    'description': 'Name of the person'\n",
    "                },\n",
    "                'college': {\n",
    "                    'type': 'string',\n",
    "                    'description': 'The college name.'\n",
    "                },\n",
    "                'grades': {\n",
    "                    'type': 'integer',\n",
    "                    'description': 'CGPA of the student.'\n",
    "                },\n",
    "                'club': {\n",
    "                    'type': 'string',\n",
    "                    'description': 'college club for extracurricular activities. '\n",
    "                }\n",
    "                \n",
    "            }\n",
    "        }\n",
    "    }\n",
    "]"
   ]
  },
  {
   "cell_type": "code",
   "execution_count": 21,
   "id": "2227c575",
   "metadata": {},
   "outputs": [
    {
     "data": {
      "text/plain": [
       "[{'name': 'extract_student_info',\n",
       "  'description': 'Get the student information from the body of the input text',\n",
       "  'parameters': {'type': 'object',\n",
       "   'properties': {'name': {'type': 'string',\n",
       "     'description': 'Name of the person'},\n",
       "    'college': {'type': 'string', 'description': 'The college name.'},\n",
       "    'grades': {'type': 'integer', 'description': 'CGPA of the student.'},\n",
       "    'club': {'type': 'string',\n",
       "     'description': 'college club for extracurricular activities. '}}}}]"
      ]
     },
     "execution_count": 21,
     "metadata": {},
     "output_type": "execute_result"
    }
   ],
   "source": [
    "student_custom_function"
   ]
  },
  {
   "cell_type": "code",
   "execution_count": 22,
   "id": "6c48e5c6",
   "metadata": {},
   "outputs": [
    {
     "data": {
      "text/plain": [
       "\"\\nPlease extract the following information from the given text and return it as a JSON object:\\n\\nname\\ncollege\\ngrades\\nclub\\n\\nThis is the body of text to extract the information from:\\nsunny savita is a student of computer science at IIT delhi. He is an indian and has a 8.5 GPA. Sunny is known for his programming skills and is an active member of the college's AI Club. He hopes to pursue a career in artificial intelligence after graduating.\\n\""
      ]
     },
     "execution_count": 22,
     "metadata": {},
     "output_type": "execute_result"
    }
   ],
   "source": [
    "prompt"
   ]
  },
  {
   "cell_type": "code",
   "execution_count": 23,
   "id": "e78ca7cf",
   "metadata": {},
   "outputs": [],
   "source": [
    "response2 = client.chat.completions.create(\n",
    "    model=\"gpt-3.5-turbo\",\n",
    "    messages=[{\"role\": \"user\", \"content\": prompt }],\n",
    "    functions=student_custom_function,\n",
    "    function_call = 'auto',\n",
    ")"
   ]
  },
  {
   "cell_type": "code",
   "execution_count": 24,
   "id": "dec5f753",
   "metadata": {},
   "outputs": [
    {
     "data": {
      "text/plain": [
       "ChatCompletion(id='chatcmpl-9bkIo2AoMskAZJBUffw6d6d0JwPaO', choices=[Choice(finish_reason='function_call', index=0, logprobs=None, message=ChatCompletionMessage(content=None, role='assistant', function_call=FunctionCall(arguments='{}', name='extract_student_info'), tool_calls=None))], created=1718783150, model='gpt-3.5-turbo-0125', object='chat.completion', system_fingerprint=None, usage=CompletionUsage(completion_tokens=11, prompt_tokens=190, total_tokens=201))"
      ]
     },
     "execution_count": 24,
     "metadata": {},
     "output_type": "execute_result"
    }
   ],
   "source": [
    "response2"
   ]
  },
  {
   "cell_type": "code",
   "execution_count": 25,
   "id": "ebdfd6ac",
   "metadata": {},
   "outputs": [
    {
     "data": {
      "text/plain": [
       "'{}'"
      ]
     },
     "execution_count": 25,
     "metadata": {},
     "output_type": "execute_result"
    }
   ],
   "source": [
    "response2.choices[0].message.function_call.arguments"
   ]
  },
  {
   "cell_type": "code",
   "execution_count": 26,
   "id": "c5866926",
   "metadata": {},
   "outputs": [
    {
     "data": {
      "text/plain": [
       "{}"
      ]
     },
     "execution_count": 26,
     "metadata": {},
     "output_type": "execute_result"
    }
   ],
   "source": [
    "json.loads(response2.choices[0].message.function_call.arguments)"
   ]
  },
  {
   "cell_type": "code",
   "execution_count": 27,
   "id": "b339f175",
   "metadata": {},
   "outputs": [
    {
     "data": {
      "text/plain": [
       "\"sunny savita is a student of computer science at IIT delhi. He is an indian and has a 8.5 GPA. Sunny is known for his programming skills and is an active member of the college's AI Club. He hopes to pursue a career in artificial intelligence after graduating.\""
      ]
     },
     "execution_count": 27,
     "metadata": {},
     "output_type": "execute_result"
    }
   ],
   "source": [
    "student_description"
   ]
  },
  {
   "cell_type": "code",
   "execution_count": 28,
   "id": "ed7f471f",
   "metadata": {},
   "outputs": [],
   "source": [
    "student_description_two=\"krish naik is a student of computer science at IIT Mumbai. He is an indian and has a 9.5 GPA. krish is known for his programming skills and is an active member of the college's data science Club. He hopes to pursue a career in artificial intelligence after graduating.\""
   ]
  },
  {
   "cell_type": "code",
   "execution_count": 29,
   "id": "c85f6571",
   "metadata": {},
   "outputs": [],
   "source": [
    "student_description_three=\"sudhanshu kumar is a student of computer science at IIT bengalore. He is an indian and has a 9.2 GPA. krish is known for his programming skills and is an active member of the college's MLops Club. He hopes to pursue a career in artificial intelligence after graduating.\""
   ]
  },
  {
   "cell_type": "code",
   "execution_count": 30,
   "id": "3ad832b5",
   "metadata": {},
   "outputs": [
    {
     "name": "stdout",
     "output_type": "stream",
     "text": [
      "sunny savita is a student of computer science at IIT delhi. He is an indian and has a 8.5 GPA. Sunny is known for his programming skills and is an active member of the college's AI Club. He hopes to pursue a career in artificial intelligence after graduating.\n",
      "krish naik is a student of computer science at IIT Mumbai. He is an indian and has a 9.5 GPA. krish is known for his programming skills and is an active member of the college's data science Club. He hopes to pursue a career in artificial intelligence after graduating.\n",
      "sudhanshu kumar is a student of computer science at IIT bengalore. He is an indian and has a 9.2 GPA. krish is known for his programming skills and is an active member of the college's MLops Club. He hopes to pursue a career in artificial intelligence after graduating.\n"
     ]
    }
   ],
   "source": [
    "student_info = [student_description, student_description_two,student_description_three]\n",
    "for student in student_info:\n",
    "    print(student)"
   ]
  },
  {
   "cell_type": "code",
   "execution_count": 31,
   "id": "50814035",
   "metadata": {},
   "outputs": [
    {
     "name": "stdout",
     "output_type": "stream",
     "text": [
      "{'name': 'sunny savita', 'college': 'IIT delhi', 'grades': 8.5, 'club': 'AI Club'}\n",
      "{}\n",
      "{}\n"
     ]
    }
   ],
   "source": [
    "import json\n",
    "student_info = [student_description, student_description_two,student_description_three]\n",
    "for student in student_info:\n",
    "    response =  client.chat.completions.create(\n",
    "        model = 'gpt-3.5-turbo',\n",
    "        messages = [{'role': 'user', 'content': student}],\n",
    "        functions = student_custom_function,\n",
    "        function_call = 'auto',\n",
    "    )\n",
    "\n",
    "    response = json.loads(response.choices[0].message.function_call.arguments)\n",
    "    print(response)"
   ]
  },
  {
   "cell_type": "code",
   "execution_count": 32,
   "id": "91b81920",
   "metadata": {},
   "outputs": [],
   "source": [
    "#flight info"
   ]
  },
  {
   "cell_type": "code",
   "execution_count": 33,
   "id": "0affed27",
   "metadata": {},
   "outputs": [],
   "source": [
    "response = client.chat.completions.create(\n",
    "    model=\"gpt-3.5-turbo\",\n",
    "    messages=[\n",
    "    {\n",
    "      \"role\": \"user\",\n",
    "      \"content\": \"When's the next flight from delhi to mumbai?\"\n",
    "    }\n",
    "      ]\n",
    ")"
   ]
  },
  {
   "cell_type": "code",
   "execution_count": 34,
   "id": "c276d589",
   "metadata": {},
   "outputs": [
    {
     "data": {
      "text/plain": [
       "'I am an AI assistant and do not have real-time flight information. However, you can check the flight schedule on the website of airlines such as IndiGo, Air India, Vistara, or GoAir. You can also use flight booking websites like MakeMyTrip, Cleartrip, or Yatra to check the next available flight from Delhi to Mumbai.'"
      ]
     },
     "execution_count": 34,
     "metadata": {},
     "output_type": "execute_result"
    }
   ],
   "source": [
    "response.choices[0].message.content"
   ]
  },
  {
   "cell_type": "code",
   "execution_count": 35,
   "id": "197166a8",
   "metadata": {},
   "outputs": [],
   "source": [
    "function_descriptions = [\n",
    "    {\n",
    "        \"name\": \"get_flight_info\",\n",
    "        \"description\": \"Get flight information between two locations\",\n",
    "        \"parameters\": {\n",
    "            \"type\": \"object\",\n",
    "            \"properties\": {\n",
    "                \"loc_origin\": {\n",
    "                    \"type\": \"string\",\n",
    "                    \"description\": \"The departure airport, e.g. DEL\",\n",
    "                },\n",
    "                \"loc_destination\": {\n",
    "                    \"type\": \"string\",\n",
    "                    \"description\": \"The destination airport, e.g. MUM\",\n",
    "                },\n",
    "            },\n",
    "            \"required\": [\"loc_origin\", \"loc_destination\"],\n",
    "        },\n",
    "    }\n",
    "]"
   ]
  },
  {
   "cell_type": "code",
   "execution_count": 36,
   "id": "8340b4a0",
   "metadata": {},
   "outputs": [],
   "source": [
    "user_prompt = \"When's the next flight from new delhi to mumbai?\""
   ]
  },
  {
   "cell_type": "code",
   "execution_count": 37,
   "id": "ba60e52a",
   "metadata": {},
   "outputs": [],
   "source": [
    "response2 = client.chat.completions.create(\n",
    "    model=\"gpt-3.5-turbo\",\n",
    "    messages=[\n",
    "    {\n",
    "      \"role\": \"user\",\n",
    "      \"content\": user_prompt\n",
    "    }\n",
    "      ],\n",
    "    # Add function calling\n",
    "    functions=function_descriptions,\n",
    "    function_call=\"auto\",  # specify the function call\n",
    "    \n",
    ")"
   ]
  },
  {
   "cell_type": "code",
   "execution_count": 38,
   "id": "8a0faa96",
   "metadata": {},
   "outputs": [
    {
     "data": {
      "text/plain": [
       "ChatCompletion(id='chatcmpl-9bkIt0WywRMlmT57XVWTzf4pUfeu9', choices=[Choice(finish_reason='function_call', index=0, logprobs=None, message=ChatCompletionMessage(content=None, role='assistant', function_call=FunctionCall(arguments='{\"loc_origin\":\"DEL\",\"loc_destination\":\"BOM\"}', name='get_flight_info'), tool_calls=None))], created=1718783155, model='gpt-3.5-turbo-0125', object='chat.completion', system_fingerprint=None, usage=CompletionUsage(completion_tokens=22, prompt_tokens=87, total_tokens=109))"
      ]
     },
     "execution_count": 38,
     "metadata": {},
     "output_type": "execute_result"
    }
   ],
   "source": [
    "response2"
   ]
  },
  {
   "cell_type": "code",
   "execution_count": 39,
   "id": "db0f3fa5",
   "metadata": {},
   "outputs": [
    {
     "data": {
      "text/plain": [
       "'{\"loc_origin\":\"DEL\",\"loc_destination\":\"BOM\"}'"
      ]
     },
     "execution_count": 39,
     "metadata": {},
     "output_type": "execute_result"
    }
   ],
   "source": [
    "response2.choices[0].message.function_call.arguments"
   ]
  },
  {
   "cell_type": "code",
   "execution_count": 40,
   "id": "86d42a87",
   "metadata": {},
   "outputs": [],
   "source": [
    "#call the real time api"
   ]
  },
  {
   "cell_type": "code",
   "execution_count": 41,
   "id": "3feeadb3",
   "metadata": {},
   "outputs": [],
   "source": [
    "from datetime import datetime,timedelta\n",
    "def get_flight_info(loc_origin, loc_destination):\n",
    "    \"\"\"Get flight information between two locations.\"\"\"\n",
    "\n",
    "    # Example output returned from an API or database\n",
    "    flight_info = {\n",
    "        \"loc_origin\": loc_origin,\n",
    "        \"loc_destination\": loc_destination,\n",
    "        \"datetime\": str(datetime.now() + timedelta(hours=2)),\n",
    "        \"airline\": \"KLM\",\n",
    "        \"flight\": \"KL643\",\n",
    "    }\n",
    "\n",
    "    return json.dumps(flight_info)"
   ]
  },
  {
   "cell_type": "code",
   "execution_count": 42,
   "id": "f172712e",
   "metadata": {},
   "outputs": [],
   "source": [
    "params=json.loads(response2.choices[0].message.function_call.arguments)"
   ]
  },
  {
   "cell_type": "code",
   "execution_count": 43,
   "id": "c4a9cfca",
   "metadata": {},
   "outputs": [
    {
     "data": {
      "text/plain": [
       "{'loc_origin': 'DEL', 'loc_destination': 'BOM'}"
      ]
     },
     "execution_count": 43,
     "metadata": {},
     "output_type": "execute_result"
    }
   ],
   "source": [
    "params"
   ]
  },
  {
   "cell_type": "code",
   "execution_count": 44,
   "id": "06f5337b",
   "metadata": {},
   "outputs": [],
   "source": [
    "origin = json.loads(response2.choices[0].message.function_call.arguments).get(\"loc_origin\")\n",
    "destination = json.loads(response2.choices[0].message.function_call.arguments).get(\"loc_destination\")"
   ]
  },
  {
   "cell_type": "code",
   "execution_count": 45,
   "id": "4417a236",
   "metadata": {},
   "outputs": [
    {
     "data": {
      "text/plain": [
       "'DEL'"
      ]
     },
     "execution_count": 45,
     "metadata": {},
     "output_type": "execute_result"
    }
   ],
   "source": [
    "origin"
   ]
  },
  {
   "cell_type": "code",
   "execution_count": 46,
   "id": "262c8667",
   "metadata": {},
   "outputs": [
    {
     "data": {
      "text/plain": [
       "'get_flight_info'"
      ]
     },
     "execution_count": 46,
     "metadata": {},
     "output_type": "execute_result"
    }
   ],
   "source": [
    "response2.choices[0].message.function_call.name"
   ]
  },
  {
   "cell_type": "code",
   "execution_count": 47,
   "id": "f542b44d",
   "metadata": {},
   "outputs": [],
   "source": [
    "chosen_function=eval(response2.choices[0].message.function_call.name)"
   ]
  },
  {
   "cell_type": "code",
   "execution_count": 48,
   "id": "f3258aa6",
   "metadata": {},
   "outputs": [
    {
     "name": "stdout",
     "output_type": "stream",
     "text": [
      "{\"loc_origin\": \"DEL\", \"loc_destination\": \"BOM\", \"datetime\": \"2024-06-19 15:15:57.046626\", \"airline\": \"KLM\", \"flight\": \"KL643\"}\n"
     ]
    }
   ],
   "source": [
    "flight = chosen_function(**params)\n",
    "\n",
    "print(flight)"
   ]
  },
  {
   "cell_type": "markdown",
   "id": "436acbb5",
   "metadata": {},
   "source": [
    "# langchain"
   ]
  },
  {
   "cell_type": "code",
   "execution_count": 49,
   "id": "1f37d44b",
   "metadata": {},
   "outputs": [],
   "source": [
    "import langchain"
   ]
  },
  {
   "cell_type": "code",
   "execution_count": 50,
   "id": "0a3612aa",
   "metadata": {},
   "outputs": [],
   "source": [
    "from langchain.llms import OpenAI"
   ]
  },
  {
   "cell_type": "code",
   "execution_count": 51,
   "id": "0e67ebc5",
   "metadata": {},
   "outputs": [
    {
     "name": "stderr",
     "output_type": "stream",
     "text": [
      "C:\\Users\\Admin\\anaconda3\\Lib\\site-packages\\langchain_core\\_api\\deprecation.py:139: LangChainDeprecationWarning: The class `OpenAI` was deprecated in LangChain 0.0.10 and will be removed in 0.3.0. An updated version of the class exists in the langchain-openai package and should be used instead. To use it run `pip install -U langchain-openai` and import as `from langchain_openai import OpenAI`.\n",
      "  warn_deprecated(\n"
     ]
    }
   ],
   "source": [
    "client=OpenAI(openai_api_key=\"sk-proj-HAJg2iDp8Tlk6XkkiO1RT3BlbkFJeyAkYh46OnNIaAg7igfC\")"
   ]
  },
  {
   "cell_type": "code",
   "execution_count": 52,
   "id": "191cd8fd",
   "metadata": {},
   "outputs": [],
   "source": [
    "# zero shot prompting\n",
    "prompt=\"can you tell me about sadashivrao bhau peshwa in marathi\""
   ]
  },
  {
   "cell_type": "code",
   "execution_count": 53,
   "id": "44d09a84",
   "metadata": {},
   "outputs": [
    {
     "name": "stderr",
     "output_type": "stream",
     "text": [
      "C:\\Users\\Admin\\anaconda3\\Lib\\site-packages\\langchain_core\\_api\\deprecation.py:139: LangChainDeprecationWarning: The method `BaseLLM.predict` was deprecated in langchain-core 0.1.7 and will be removed in 0.3.0. Use invoke instead.\n",
      "  warn_deprecated(\n"
     ]
    },
    {
     "name": "stdout",
     "output_type": "stream",
     "text": [
      "\n",
      "\n",
      "सदाशिवराव भाऊ पेशवे हे मराठा साम्राज्याचे यशस्वी अधिकारी होते. ते बाजीराव पेशव्यांचे तीन वडिल पेशव्यांपैकी आहेत. त्यांच्या तात्यांनी त्यांच्या लग्नानंतर त्यांनी राज्यातील गुरुग्राम आणि भावानीगराचे मालक होते.\n",
      "\n",
      "सदाशिवराव भाऊ आणि त्यांच्या वडिलांच्या म\n"
     ]
    }
   ],
   "source": [
    "print(client.predict(prompt))"
   ]
  },
  {
   "cell_type": "code",
   "execution_count": 54,
   "id": "822dbd7e",
   "metadata": {},
   "outputs": [],
   "source": [
    "from langchain.prompts import PromptTemplate"
   ]
  },
  {
   "cell_type": "code",
   "execution_count": 55,
   "id": "c013380d",
   "metadata": {},
   "outputs": [],
   "source": [
    "prompt_template_name=PromptTemplate(\n",
    "    input_variables=[\"country\"],\n",
    "    template=\"can you tell me the capital of {country}?\"\n",
    ")"
   ]
  },
  {
   "cell_type": "code",
   "execution_count": 56,
   "id": "c3493c56",
   "metadata": {},
   "outputs": [],
   "source": [
    "propmt1=prompt_template_name.format(country=\"india\")"
   ]
  },
  {
   "cell_type": "code",
   "execution_count": 57,
   "id": "1247c7f0",
   "metadata": {},
   "outputs": [],
   "source": [
    "propmt2=prompt_template_name.format(country=\"china\")"
   ]
  },
  {
   "cell_type": "code",
   "execution_count": 58,
   "id": "fa8e3472",
   "metadata": {},
   "outputs": [
    {
     "name": "stdout",
     "output_type": "stream",
     "text": [
      "\n",
      "\n",
      "The capital of China is Beijing.\n"
     ]
    }
   ],
   "source": [
    "print(client.predict(propmt2))"
   ]
  },
  {
   "cell_type": "code",
   "execution_count": 59,
   "id": "306cac54",
   "metadata": {},
   "outputs": [],
   "source": [
    "# agent"
   ]
  },
  {
   "cell_type": "code",
   "execution_count": 60,
   "id": "b445eb0b",
   "metadata": {},
   "outputs": [
    {
     "name": "stdout",
     "output_type": "stream",
     "text": [
      "Requirement already satisfied: google-search-results in c:\\users\\admin\\anaconda3\\lib\\site-packages (2.4.2)\n",
      "Requirement already satisfied: requests in c:\\users\\admin\\anaconda3\\lib\\site-packages (from google-search-results) (2.31.0)\n",
      "Requirement already satisfied: charset-normalizer<4,>=2 in c:\\users\\admin\\anaconda3\\lib\\site-packages (from requests->google-search-results) (2.0.4)\n",
      "Requirement already satisfied: idna<4,>=2.5 in c:\\users\\admin\\anaconda3\\lib\\site-packages (from requests->google-search-results) (3.4)\n",
      "Requirement already satisfied: urllib3<3,>=1.21.1 in c:\\users\\admin\\anaconda3\\lib\\site-packages (from requests->google-search-results) (1.26.16)\n",
      "Requirement already satisfied: certifi>=2017.4.17 in c:\\users\\admin\\anaconda3\\lib\\site-packages (from requests->google-search-results) (2023.7.22)\n"
     ]
    }
   ],
   "source": [
    "!pip install google-search-results"
   ]
  },
  {
   "cell_type": "code",
   "execution_count": 61,
   "id": "415ce79c",
   "metadata": {},
   "outputs": [],
   "source": [
    "serpapi_key=\"fcc852d3b837bb6c5b3ae683c9293febf6cf9222080cb3ce3d714d0bb3009a48\""
   ]
  },
  {
   "cell_type": "code",
   "execution_count": 13,
   "id": "c8d17ccb",
   "metadata": {},
   "outputs": [],
   "source": [
    "from langchain.agents import AgentType\n",
    "from langchain.agents import load_tools \n",
    "from langchain.agents import initialize_agent\n",
    "from langchain.llms import OpenAI"
   ]
  },
  {
   "cell_type": "code",
   "execution_count": 63,
   "id": "06fb2f33",
   "metadata": {},
   "outputs": [],
   "source": [
    "client=OpenAI(openai_api_key=my_key)"
   ]
  },
  {
   "cell_type": "code",
   "execution_count": 64,
   "id": "07456673",
   "metadata": {},
   "outputs": [],
   "source": [
    "tool=load_tools([\"serpapi\"],serpapi_api_key=serpapi_key,llm=client)"
   ]
  },
  {
   "cell_type": "code",
   "execution_count": 65,
   "id": "5a64fda7",
   "metadata": {},
   "outputs": [
    {
     "name": "stderr",
     "output_type": "stream",
     "text": [
      "C:\\Users\\Admin\\anaconda3\\Lib\\site-packages\\langchain_core\\_api\\deprecation.py:139: LangChainDeprecationWarning: The function `initialize_agent` was deprecated in LangChain 0.1.0 and will be removed in 0.3.0. Use Use new agent constructor methods like create_react_agent, create_json_agent, create_structured_chat_agent, etc. instead.\n",
      "  warn_deprecated(\n"
     ]
    }
   ],
   "source": [
    "agent=initialize_agent(tool,client,agent=AgentType.ZERO_SHOT_REACT_DESCRIPTION,verbose=True)"
   ]
  },
  {
   "cell_type": "code",
   "execution_count": 66,
   "id": "ff66695b",
   "metadata": {},
   "outputs": [
    {
     "name": "stderr",
     "output_type": "stream",
     "text": [
      "C:\\Users\\Admin\\anaconda3\\Lib\\site-packages\\langchain_core\\_api\\deprecation.py:139: LangChainDeprecationWarning: The method `Chain.run` was deprecated in langchain 0.1.0 and will be removed in 0.3.0. Use invoke instead.\n",
      "  warn_deprecated(\n"
     ]
    },
    {
     "name": "stdout",
     "output_type": "stream",
     "text": [
      "\n",
      "\n",
      "\u001b[1m> Entering new AgentExecutor chain...\u001b[0m\n",
      "\u001b[32;1m\u001b[1;3m It's best to use a reliable source to find this information.\n",
      "Action: Search\n",
      "Action Input: \"cricket worldcup winner\"\u001b[0m\n",
      "Observation: \u001b[36;1m\u001b[1;3m{'title': \"ICC Men's T20 World Cup\", 'thumbnail': 'https://serpapi.com/searches/66728cce17f923898a11218f/images/c6360801742831ed09ee2b88a74295f7f7c2ded16fedde437ad9896e155b0266.png', 'game_spotlight': {'league': 'World T20', 'stadium': 'Sir Vivian Richards Stadium', 'stadium_kgmid': '/m/0cy0fj', 'date': 'today, 10:30\\u202fAM', 'teams': [{'name': 'United States', 'thumbnail': 'https://ssl.gstatic.com/onebox/media/sports/logos/wj9uZvn_vZrelLFGH8fnPA_96x96.png', 'kgmid': '/m/03wb6g'}, {'name': 'South Africa', 'thumbnail': 'https://ssl.gstatic.com/onebox/media/sports/logos/EGwD4_SUlmwZWbnHhcmTPA_96x96.png', 'kgmid': '/m/038zy5'}]}, 'games': [{'tournament': \"ICC Men's T20 World Cup\", 'stadium': 'Beausejour Stadium', 'stadium_kgmid': '/m/08_3p8', 'date': 'Today', 'teams': [{'name': 'England', 'kgmid': '/m/038zh6', 'thumbnail': 'https://serpapi.com/searches/66728cce17f923898a11218f/images/c6360801742831eddc994f142d92d456d38399a6d04f64337911e4c029e39e1a368c1bcede1644736f8e8de0805c4db8.png'}, {'name': 'West Indies', 'kgmid': '/m/098knd', 'thumbnail': 'https://serpapi.com/searches/66728cce17f923898a11218f/images/c6360801742831eddc994f142d92d456d38399a6d04f6433358301429659f4eec90e519b3477072fb26ffa65b99d16ad.png'}], 'status': 'Starts at 8:30 PM'}, {'tournament': \"ICC Men's T20 World Cup\", 'stadium': 'Beausejour Stadium', 'stadium_kgmid': '/m/08_3p8', 'date': 'Mon, Jun 17', 'teams': [{'name': 'West Indies', 'score': '218/5 (20)', 'kgmid': '/m/098knd', 'thumbnail': 'https://serpapi.com/searches/66728cce17f923898a11218f/images/c6360801742831eddc994f142d92d45601da482708bd97f80ba8b80bab9ac32db37edf27b34e0a1650bb4fb3ee825ed4.png'}, {'name': 'Afghanistan', 'score': '114 (16.2)', 'kgmid': '/m/076tnc', 'thumbnail': 'https://serpapi.com/searches/66728cce17f923898a11218f/images/c6360801742831eddc994f142d92d45601da482708bd97f8049b0d8576e660186b75d5b691cf6b568d1b9a75f0a74b1a.png'}], 'status': 'WI won by 104 runs'}, {'tournament': \"ICC Men's T20 World Cup\", 'stadium': 'Brian Lara Cricket Academy', 'stadium_kgmid': '/m/0cy0k9', 'date': 'Mon, Jun 17', 'teams': [{'name': 'Papua New Guinea', 'score': '78 (19.4)', 'kgmid': '/m/08rtjm', 'thumbnail': 'https://serpapi.com/searches/66728cce17f923898a11218f/images/c6360801742831eddc994f142d92d4562dcfb110ebfdc1c55f643329521dfa640545e8fff32535abe176e83ede9794bb.png'}, {'name': 'New Zealand', 'score': '79/3 (12.2)', 'kgmid': '/m/02fbb5', 'thumbnail': 'https://serpapi.com/searches/66728cce17f923898a11218f/images/c6360801742831eddc994f142d92d4562dcfb110ebfdc1c5853584d0d77dd13bba230895eb723b3c0acb1b0dde66a966.png'}], 'status': 'NZ won by 7 wickets (46 balls left)'}, {'tournament': \"ICC Men's T20 World Cup\", 'stadium': 'Beausejour Stadium', 'stadium_kgmid': '/m/08_3p8', 'date': 'Sun, Jun 16', 'teams': [{'name': 'Sri Lanka', 'score': '201/6 (20)', 'kgmid': '/m/023fxp', 'thumbnail': 'https://serpapi.com/searches/66728cce17f923898a11218f/images/c6360801742831eddc994f142d92d45673c48deea25cc6d02874de3820b36cb166b7da8b9e9ad35f23dbeacb2c09d859.png'}, {'name': 'Netherlands', 'score': '118 (16.4)', 'kgmid': '/m/06rmgh', 'thumbnail': 'https://serpapi.com/searches/66728cce17f923898a11218f/images/c6360801742831eddc994f142d92d45673c48deea25cc6d0660320ed121351268280d0b84b0db46263e7f486d26f1e36.png'}], 'status': 'SL won by 83 runs'}]}\u001b[0m\n",
      "Thought:\u001b[32;1m\u001b[1;3m I now know the final answer\n",
      "Final Answer: The West Indies won the cricket worldcup recently.\u001b[0m\n",
      "\n",
      "\u001b[1m> Finished chain.\u001b[0m\n"
     ]
    },
    {
     "data": {
      "text/plain": [
       "'The West Indies won the cricket worldcup recently.'"
      ]
     },
     "execution_count": 66,
     "metadata": {},
     "output_type": "execute_result"
    }
   ],
   "source": [
    "agent.run(\"can you tell who won the cricket worldcup recently?\")"
   ]
  },
  {
   "cell_type": "code",
   "execution_count": 67,
   "id": "cbae61e0",
   "metadata": {},
   "outputs": [],
   "source": [
    "#using wiki"
   ]
  },
  {
   "cell_type": "code",
   "execution_count": 68,
   "id": "9769784a",
   "metadata": {},
   "outputs": [
    {
     "name": "stdout",
     "output_type": "stream",
     "text": [
      "Requirement already satisfied: wikipedia in c:\\users\\admin\\anaconda3\\lib\\site-packages (1.4.0)\n",
      "Requirement already satisfied: beautifulsoup4 in c:\\users\\admin\\anaconda3\\lib\\site-packages (from wikipedia) (4.12.2)\n",
      "Requirement already satisfied: requests<3.0.0,>=2.0.0 in c:\\users\\admin\\anaconda3\\lib\\site-packages (from wikipedia) (2.31.0)\n",
      "Requirement already satisfied: charset-normalizer<4,>=2 in c:\\users\\admin\\anaconda3\\lib\\site-packages (from requests<3.0.0,>=2.0.0->wikipedia) (2.0.4)\n",
      "Requirement already satisfied: idna<4,>=2.5 in c:\\users\\admin\\anaconda3\\lib\\site-packages (from requests<3.0.0,>=2.0.0->wikipedia) (3.4)\n",
      "Requirement already satisfied: urllib3<3,>=1.21.1 in c:\\users\\admin\\anaconda3\\lib\\site-packages (from requests<3.0.0,>=2.0.0->wikipedia) (1.26.16)\n",
      "Requirement already satisfied: certifi>=2017.4.17 in c:\\users\\admin\\anaconda3\\lib\\site-packages (from requests<3.0.0,>=2.0.0->wikipedia) (2023.7.22)\n",
      "Requirement already satisfied: soupsieve>1.2 in c:\\users\\admin\\anaconda3\\lib\\site-packages (from beautifulsoup4->wikipedia) (2.4)\n"
     ]
    }
   ],
   "source": [
    "!pip install wikipedia"
   ]
  },
  {
   "cell_type": "code",
   "execution_count": 69,
   "id": "aa2d4148",
   "metadata": {},
   "outputs": [],
   "source": [
    "tool=load_tools([\"wikipedia\"],llm=client)"
   ]
  },
  {
   "cell_type": "code",
   "execution_count": 70,
   "id": "3ffe6ce3",
   "metadata": {},
   "outputs": [],
   "source": [
    "agent=initialize_agent(tool,client,agent=AgentType.ZERO_SHOT_REACT_DESCRIPTION,verbose=True)"
   ]
  },
  {
   "cell_type": "code",
   "execution_count": 71,
   "id": "724964d3",
   "metadata": {},
   "outputs": [
    {
     "name": "stdout",
     "output_type": "stream",
     "text": [
      "\n",
      "\n",
      "\u001b[1m> Entering new AgentExecutor chain...\u001b[0m\n",
      "\u001b[32;1m\u001b[1;3m I should always think about what to do\n",
      "Action: wikipedia\n",
      "Action Input: 2019 Cricket World Cup\u001b[0m\n",
      "Observation: \u001b[36;1m\u001b[1;3mPage: 2019 Cricket World Cup\n",
      "Summary: The 2019 ICC Cricket World Cup was the 12th Cricket World Cup, a quadrennial One Day International (ODI) cricket tournament contested by men's national teams and organised by the International Cricket Council (ICC). The tournament was hosted between 30 May and 14 July across 10 venues in England and a single venue in Wales. It was the fifth time that England had hosted the World Cup, while for Wales it was their third. \n",
      "The tournament was contested by 10 teams, a decrease from 14 teams in the previous edition, with the format of the tournament changing to a single round-robin group with the top four teams qualifying through to the knockout stage. After six weeks of round-robin matches, which saw four games not have a result, India, Australia, England, and New Zealand finished as the top four, with Pakistan missing out on net run rate.\n",
      "In the knockout stage, England and New Zealand won their respective semi-finals to qualify for the final, which was played at Lord's in London. The final ended in a tie after the match ended with both teams scoring 241 runs, followed by the first Super Over in an ODI; England won the title, their first, on the boundary countback rule after the Super Over also finished level. The total attendance throughout the 2019 ICC Cricket World Cup was 752,000.\n",
      "Overall, videos of the group stages amassed over 2.6 billion views from around the world, making it the most-watched cricket competition as of 2019.\n",
      "\n",
      "Page: Cricket World Cup\n",
      "Summary: The Cricket World Cup (officially known as ICC Men's Cricket World Cup) is the international championship of One Day International (ODI) cricket. The event is organised by the sport's governing body, the International Cricket Council (ICC), every four years, with preliminary qualification rounds leading up to a finals tournament. The tournament is one of the world's most viewed sporting events and considered as the \"flagship event of the international cricket calendar\" by the ICC. It is widely considered the pinnacle championship of the sport of cricket.\n",
      "The first World Cup was organised in England in June 1975, with the first ODI cricket match having been played only four years earlier. However, a separate Women's Cricket World Cup had been held two years before the first men's tournament, and a tournament involving multiple international teams had been held as early as 1912, when a triangular tournament of Test matches was played between Australia, England and South Africa. The first three World Cups were held in England. From the 1987 tournament onwards, hosting has been shared between countries under an unofficial rotation system, with fourteen ICC members having hosted at least one match in the tournament.\n",
      "The current format involves a qualification phase, which takes place over the preceding three years, to determine which teams qualify for the tournament phase. In the tournament phase, 10 teams, including the automatically qualifying host nation, compete for the title at venues within the host nation over about a month. In the 2027 edition, the format will be changed to accommodate an expanded 14-team final competition.\n",
      "A total of twenty teams have competed in the 13 editions of the tournament, with ten teams competing in the recent 2023 tournament. Australia has won the tournament six times, India and West Indies twice each, while Pakistan, Sri Lanka and England have won it once each. The best performance by a non-full-member team came when Kenya made the semi-finals of the 2003 tournament.\n",
      "Australia are the current champions after winning the 2023 World Cup in India. The subsequent 2027 World Cup will be held jointly in South Africa, Zimbabwe and Namibia.\n",
      "\n",
      "Page: 2023 Cricket World Cup\n",
      "Summary: The 2023 ICC Men's Cricket World Cup (also referred to as simply the 2023 Cricket World Cup) was the 13th edition of the  Cricket World Cup, a quadrennial One Day International (ODI) cricket tournament organized by the International Cri\u001b[0m\n",
      "Thought:\u001b[32;1m\u001b[1;3m I now know the final answer\n",
      "Final Answer: The 2019 Cricket World Cup was the 12th edition of the tournament, hosted in England and Wales. It was won by England, their first ever title. The next edition of the Cricket World Cup will be held in 2023 in India.\u001b[0m\n",
      "\n",
      "\u001b[1m> Finished chain.\u001b[0m\n"
     ]
    },
    {
     "data": {
      "text/plain": [
       "'The 2019 Cricket World Cup was the 12th edition of the tournament, hosted in England and Wales. It was won by England, their first ever title. The next edition of the Cricket World Cup will be held in 2023 in India.'"
      ]
     },
     "execution_count": 71,
     "metadata": {},
     "output_type": "execute_result"
    }
   ],
   "source": [
    "agent.run(\"can you tell me about this recent cricket worldcup?\")"
   ]
  },
  {
   "cell_type": "code",
   "execution_count": 72,
   "id": "aa0dadb1",
   "metadata": {},
   "outputs": [],
   "source": [
    "#chain"
   ]
  },
  {
   "cell_type": "code",
   "execution_count": 77,
   "id": "1b5cb3bf",
   "metadata": {},
   "outputs": [],
   "source": [
    "client=OpenAI(api_key=my_key)"
   ]
  },
  {
   "cell_type": "code",
   "execution_count": 78,
   "id": "ae4ae3ba",
   "metadata": {},
   "outputs": [],
   "source": [
    "from langchain.prompts import PromptTemplate\n",
    "prompt=PromptTemplate.from_template(\"what is the good name for my business {business}\")"
   ]
  },
  {
   "cell_type": "code",
   "execution_count": 79,
   "id": "3fe217b5",
   "metadata": {},
   "outputs": [],
   "source": [
    "from langchain.chains import LLMChain\n",
    "chain=LLMChain(llm=client,prompt=prompt)"
   ]
  },
  {
   "cell_type": "code",
   "execution_count": 81,
   "id": "2e21537c",
   "metadata": {},
   "outputs": [
    {
     "data": {
      "text/plain": [
       "'\"Empowerment Edge Coaching\" or \"Success Catalyst Coaching\"'"
      ]
     },
     "execution_count": 81,
     "metadata": {},
     "output_type": "execute_result"
    }
   ],
   "source": [
    "chain.run('coaching').strip()"
   ]
  },
  {
   "cell_type": "code",
   "execution_count": 83,
   "id": "727758c9",
   "metadata": {},
   "outputs": [
    {
     "name": "stdout",
     "output_type": "stream",
     "text": [
      "1. Wanderlust Adventures\n",
      "2. Discover Excursions\n",
      "3. Globetrotter Getaways\n",
      "4. Journey Journeys\n",
      "5. Odyssey Explorations\n",
      "6. Roaming Routes\n",
      "7. Explore Escapes\n",
      "8. Adventure Awaits\n",
      "9. Nomadic Ventures\n",
      "10. Voyager Voyages\n"
     ]
    }
   ],
   "source": [
    "for i in range(1,10):\n",
    "    print(chain.run('tours and travels').strip())\n",
    "    break"
   ]
  },
  {
   "cell_type": "markdown",
   "id": "7898ecfc",
   "metadata": {},
   "source": [
    "# simple_sequential_chain"
   ]
  },
  {
   "cell_type": "code",
   "execution_count": 85,
   "id": "5efd1be4",
   "metadata": {},
   "outputs": [],
   "source": [
    "s_prompt=PromptTemplate(\n",
    "input_variable=['tours and travels'],\n",
    "template='sugggest name for buisness {tours and travels} , i am excited about that')"
   ]
  },
  {
   "cell_type": "code",
   "execution_count": 86,
   "id": "795a626f",
   "metadata": {},
   "outputs": [
    {
     "data": {
      "text/plain": [
       "PromptTemplate(input_variables=['tours and travels'], template='sugggest name for buisness {tours and travels} , i am excited about that')"
      ]
     },
     "execution_count": 86,
     "metadata": {},
     "output_type": "execute_result"
    }
   ],
   "source": [
    "s_prompt"
   ]
  },
  {
   "cell_type": "code",
   "execution_count": 87,
   "id": "78abfd85",
   "metadata": {},
   "outputs": [],
   "source": [
    "s_chain=LLMChain(llm=client,prompt=s_prompt)"
   ]
  },
  {
   "cell_type": "code",
   "execution_count": 89,
   "id": "63b63a2e",
   "metadata": {},
   "outputs": [],
   "source": [
    "s_prompt_stat=PromptTemplate(\n",
    "input_variables=['name'],\n",
    "template=\"suggest some stratergies for {name}\")"
   ]
  },
  {
   "cell_type": "code",
   "execution_count": 92,
   "id": "f49de8e8",
   "metadata": {},
   "outputs": [],
   "source": [
    "s_chain_stat=LLMChain(llm=client,prompt=s_prompt_stat)"
   ]
  },
  {
   "cell_type": "code",
   "execution_count": 93,
   "id": "bcd33584",
   "metadata": {},
   "outputs": [],
   "source": [
    "from langchain.chains import SimpleSequentialChain"
   ]
  },
  {
   "cell_type": "code",
   "execution_count": 96,
   "id": "30977c9f",
   "metadata": {},
   "outputs": [],
   "source": [
    "combine_chian=SimpleSequentialChain(chains=[s_chain,s_chain_stat])"
   ]
  },
  {
   "cell_type": "code",
   "execution_count": 99,
   "id": "4345e964",
   "metadata": {},
   "outputs": [
    {
     "name": "stdout",
     "output_type": "stream",
     "text": [
      " \n",
      "\n",
      "1. Journey Makers:\n",
      "- Offer personalized travel packages based on individual preferences \n",
      "- Partner with local tour guides and businesses for authentic experiences \n",
      "- Utilize social media and influencer marketing to showcase unique destinations \n",
      "- Offer loyalty programs for repeat customers \n",
      "- Provide 24/7 customer service for any travel emergencies \n",
      "- Collaborate with hotels and airlines for exclusive deals and upgrades \n",
      "- Offer sustainable and eco-friendly travel options \n",
      "- Create interactive and informative travel blogs and vlogs \n",
      "- Offer virtual tours and experiences for those who cannot travel physically \n",
      "- Host travel events and workshops to connect with potential customers \n",
      "\n",
      "2. Globetrotters Inc.:\n",
      "- Offer all-inclusive luxury travel packages \n",
      "- Partner with high-end hotels and resorts for exclusive deals and upgrades \n",
      "- Offer personalized concierge services for a hassle-free travel experience \n",
      "- Utilize social media and influencer marketing to target high-end clientele \n",
      "- Collaborate with luxury brands for unique experiences and perks \n",
      "- Offer private jet charters for a luxurious travel experience \n",
      "- Create a referral program for loyal customers \n",
      "- Offer exclusive VIP access and experiences \n",
      "- Provide 24/7 customer service for any travel emergencies \n",
      "- Offer personalized travel planning services for busy professionals \n",
      "\n",
      "3. Business Wanderlust:\n",
      "- Offer corporate travel\n"
     ]
    }
   ],
   "source": [
    "print(combine_chian.run('travels'))"
   ]
  },
  {
   "cell_type": "markdown",
   "id": "3f27c3f8",
   "metadata": {},
   "source": [
    "# Sequential chain"
   ]
  },
  {
   "cell_type": "code",
   "execution_count": 162,
   "id": "63d59dd5",
   "metadata": {},
   "outputs": [],
   "source": [
    "from langchain.chains import SequentialChain"
   ]
  },
  {
   "cell_type": "code",
   "execution_count": 163,
   "id": "0350ef82",
   "metadata": {},
   "outputs": [],
   "source": [
    "prompt_template_name=PromptTemplate(\n",
    "    input_variables=[\"cuisine\"],\n",
    "    template=\"i want to open a restaurant for {cuisine}, suggest a fency name for it\"\n",
    ")\n",
    "\n",
    "name_chain=LLMChain(llm=client, prompt=prompt_template_name,output_key=\"restaurant_name\")"
   ]
  },
  {
   "cell_type": "code",
   "execution_count": 164,
   "id": "853a3bfe",
   "metadata": {},
   "outputs": [],
   "source": [
    "prompt_templates_items=PromptTemplate( \n",
    "    input_variables=[\"restaurant_name\"],\n",
    "    template=\"suggest some menu items for {restaurant_name}\"\n",
    "    \n",
    ")\n",
    "\n",
    "food_items_chain=LLMChain(llm=client, prompt=prompt_templates_items, output_key=\"menu_items\")"
   ]
  },
  {
   "cell_type": "code",
   "execution_count": 165,
   "id": "d00164ba",
   "metadata": {},
   "outputs": [],
   "source": [
    "chain=SequentialChain(chains=[name_chain, food_items_chain],\n",
    "    input_variables=[\"cuisine\"],\n",
    "    output_variables=[\"restaurant_name\",\"menu_items\"]\n",
    "    \n",
    ")"
   ]
  },
  {
   "cell_type": "code",
   "execution_count": 166,
   "id": "63ebc90a",
   "metadata": {},
   "outputs": [
    {
     "data": {
      "text/plain": [
       "{'cuisine': 'indian',\n",
       " 'restaurant_name': '\\n\\n\"Maharaja\\'s Palace\"',\n",
       " 'menu_items': '\\n\\n1. Tandoori Chicken: Marinated chicken cooked in a traditional Indian clay oven.\\n\\n2. Butter Chicken: Tender chicken pieces cooked in a rich, creamy tomato sauce.\\n\\n3. Biryani: Fragrant basmati rice cooked with your choice of meat (chicken, lamb, or shrimp) and aromatic spices.\\n\\n4. Palak Paneer: Homemade cheese cubes cooked in a spinach and cream sauce.\\n\\n5. Naan bread: Freshly baked flatbread brushed with garlic butter.\\n\\n6. Samosas: Golden fried pastry filled with spiced potatoes and peas.\\n\\n7. Lamb Rogan Josh: Slow-cooked lamb in a flavorful tomato and onion gravy.\\n\\n8. Chana Masala: Chickpeas cooked in a spicy and tangy tomato-based sauce.\\n\\n9. Vegetable Korma: Assorted vegetables cooked in a creamy coconut and cashew sauce.\\n\\n10. Mango Lassi: Refreshing yogurt drink blended with mango puree and spices.'}"
      ]
     },
     "execution_count": 166,
     "metadata": {},
     "output_type": "execute_result"
    }
   ],
   "source": [
    "chain({\"cuisine\":\"indian\"})"
   ]
  },
  {
   "cell_type": "code",
   "execution_count": 125,
   "id": "261edf68",
   "metadata": {},
   "outputs": [],
   "source": [
    "#Ex-2"
   ]
  },
  {
   "cell_type": "code",
   "execution_count": 168,
   "id": "385cd04d",
   "metadata": {},
   "outputs": [],
   "source": [
    "eg_prompt_templete1=PromptTemplate(input_variables=['store'],\n",
    "                                 template='suggest me a good name for {store}')"
   ]
  },
  {
   "cell_type": "code",
   "execution_count": 169,
   "id": "e8db85ee",
   "metadata": {},
   "outputs": [],
   "source": [
    "eg_chain1=LLMChain(llm=llm,prompt=eg_prompt_templete1,output_key='grocessary_store_name')"
   ]
  },
  {
   "cell_type": "code",
   "execution_count": 170,
   "id": "c1d0964e",
   "metadata": {},
   "outputs": [
    {
     "data": {
      "text/plain": [
       "'\"Fresh Picks Market\"'"
      ]
     },
     "execution_count": 170,
     "metadata": {},
     "output_type": "execute_result"
    }
   ],
   "source": [
    "eg_chain1.run('grocessary_store_name').strip()"
   ]
  },
  {
   "cell_type": "code",
   "execution_count": 171,
   "id": "615422d9",
   "metadata": {},
   "outputs": [],
   "source": [
    "eg_prompt_templete2=PromptTemplate(input_variables=['grocessary_store_name'],\n",
    "                                  template='give me trending {grocessary_store_name} menu')"
   ]
  },
  {
   "cell_type": "code",
   "execution_count": 172,
   "id": "19556238",
   "metadata": {},
   "outputs": [],
   "source": [
    "eg_chain2=LLMChain(llm=llm,prompt=eg_prompt_templete2,output_key='Menu')"
   ]
  },
  {
   "cell_type": "code",
   "execution_count": 173,
   "id": "50401d24",
   "metadata": {},
   "outputs": [
    {
     "data": {
      "text/plain": [
       "'1. Vegan/Vegetarian options\\n2. Plant-based protein bowls/salads\\n3. Keto-friendly dishes\\n4. Gluten-free options\\n5. Locally-sourced ingredients\\n6. Sustainable seafood choices\\n7. Superfood smoothie bowls\\n8. Build-your-own poke bowls\\n9. Charcuterie boards with artisanal meats and cheeses\\n10. Seasonal and farm-to-table dishes\\n11. Street food-inspired small plates\\n12. Avocado toast variations\\n13. Craft cocktails and mocktails\\n14. Brunch specials, including avocado toast and bottomless mimosas\\n15. Global fusion cuisine\\n16. Gourmet burgers with unique toppings\\n17. DIY taco stations\\n18. Acai bowls with fresh fruit and granola\\n19. Korean fried chicken wings\\n20. Dessert flights or samplers.'"
      ]
     },
     "execution_count": 173,
     "metadata": {},
     "output_type": "execute_result"
    }
   ],
   "source": [
    "eg_chain2.run('Menu').strip()"
   ]
  },
  {
   "cell_type": "code",
   "execution_count": 179,
   "id": "197e70ec",
   "metadata": {},
   "outputs": [],
   "source": [
    "eg_chain=SequentialChain(chains=[eg_chain1,eg_chain2],\n",
    "                        input_variables=['store'],\n",
    "                        output_variables=['grocessary_store_name','Menu'])"
   ]
  },
  {
   "cell_type": "code",
   "execution_count": 184,
   "id": "f6969f12",
   "metadata": {},
   "outputs": [
    {
     "data": {
      "text/plain": [
       "{'store': 'fish hotel',\n",
       " 'grocessary_store_name': '\\n\\n\"Fin-tastic Retreat\"',\n",
       " 'Menu': ' items at a beachside restaurant, \"Work From Paradise\" travel packages, \"Self-Care Sunday\" spa treatments, \"Eco-Chic\" fashion and home decor, \"Virtual Happy Hour\" events, \"At-Home Workout\" challenges, \"Sustainable Living\" tips and products, \"Influencer Collabs\" with popular brands, \"DIY Home Improvement\" projects, \"Socially Distant Date Night\" ideas.'}"
      ]
     },
     "execution_count": 184,
     "metadata": {},
     "output_type": "execute_result"
    }
   ],
   "source": [
    "eg_chain({'store':'fish hotel'})"
   ]
  },
  {
   "cell_type": "code",
   "execution_count": null,
   "id": "ac62eb55",
   "metadata": {},
   "outputs": [],
   "source": []
  },
  {
   "cell_type": "code",
   "execution_count": null,
   "id": "3fc0c955",
   "metadata": {},
   "outputs": [],
   "source": []
  },
  {
   "cell_type": "code",
   "execution_count": null,
   "id": "fe90c2ab",
   "metadata": {},
   "outputs": [],
   "source": []
  }
 ],
 "metadata": {
  "kernelspec": {
   "display_name": "Python 3 (ipykernel)",
   "language": "python",
   "name": "python3"
  },
  "language_info": {
   "codemirror_mode": {
    "name": "ipython",
    "version": 3
   },
   "file_extension": ".py",
   "mimetype": "text/x-python",
   "name": "python",
   "nbconvert_exporter": "python",
   "pygments_lexer": "ipython3",
   "version": "3.11.5"
  }
 },
 "nbformat": 4,
 "nbformat_minor": 5
}
